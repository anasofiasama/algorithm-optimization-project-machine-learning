{
 "cells": [
  {
   "cell_type": "markdown",
   "id": "27b09e13",
   "metadata": {},
   "source": [
    "# Algorithm Optimization problems"
   ]
  },
  {
   "cell_type": "markdown",
   "id": "ed05e9bf",
   "metadata": {},
   "source": [
    "## Exercise 1\n",
    "\n",
    "Suppose a manager gives a task to two of his employees to design an algorithm in Python that efficiently compute sums of diagonals of a matrix.\n",
    "\n",
    "For example:\n",
    "\n",
    "```py\n",
    "Input : \n",
    "\n",
    "\n",
    "1 2 3 4\n",
    "4 3 2 1\n",
    "7 8 9 6\n",
    "6 5 4 3\n",
    "\n",
    "Output :\n",
    "\n",
    "Principal Diagonal: 16\n",
    "Secondary Diagonal: 20\n",
    "```\n",
    "\n",
    "The primary diagonal is formed by the elements 1,3,9,3. \n",
    " \n",
    "\n",
    "Condition for Principal Diagonal: The row-column condition is row = column. \n",
    "\n",
    "The secondary diagonal is formed by the elements 4,2,8,6.\n",
    "\n",
    "Condition for Secondary Diagonal: The row-column condition is row = number Of Rows – column -1.\n",
    "\n",
    "The algorithm developed by the first employee looks like this:"
   ]
  },
  {
   "cell_type": "markdown",
   "id": "8f18cb2f",
   "metadata": {},
   "source": [
    "**Method 1:**\n",
    "\n",
    "In this method, he used two loops. A loop for columns and a loop for rows and in the inner loop we check for the condition stated above."
   ]
  },
  {
   "cell_type": "code",
   "execution_count": 1,
   "id": "c592f03c",
   "metadata": {},
   "outputs": [
    {
     "name": "stdout",
     "output_type": "stream",
     "text": [
      "Principal Diagonal: 18\n",
      "Secondary Diagonal: 18\n"
     ]
    }
   ],
   "source": [
    "# A simple Python program to find sum of diagonals\n",
    "\n",
    "MAX = 100\n",
    " \n",
    "def DiagonalSums_emp1(mat, n):\n",
    " \n",
    "    principal = 0\n",
    "    secondary = 0;\n",
    "    for i in range(0, n):\n",
    "        for j in range(0, n):\n",
    " \n",
    "            # Condition for principal diagonal\n",
    "            if (i == j):\n",
    "                principal += mat[i][j]\n",
    " \n",
    "            # Condition for secondary diagonal\n",
    "            if ((i + j) == (n - 1)):\n",
    "                secondary += mat[i][j]\n",
    "                \n",
    "    print(\"Principal Diagonal:\", principal)\n",
    "    print(\"Secondary Diagonal:\", secondary)\n",
    " \n",
    "\n",
    "a = [[ 1, 2, 3, 4 ],\n",
    "     [ 5, 6, 7, 8 ],\n",
    "     [ 1, 2, 3, 4 ],\n",
    "     [ 5, 6, 7, 8 ]]\n",
    "\n",
    "DiagonalSums_emp1(a, 4)\n",
    " \n",
    "# This code is contributed\n",
    "# by ihritik"
   ]
  },
  {
   "cell_type": "markdown",
   "id": "4f0567be",
   "metadata": {},
   "source": [
    "The algorithm developed by the second employee looks like this:\n",
    "\n",
    "**Method 2:**\n",
    "\n",
    "In this method we use one loop. A loop for calculating sum of both the principal and secondary diagonals: "
   ]
  },
  {
   "cell_type": "code",
   "execution_count": 2,
   "id": "0ca5e0a5",
   "metadata": {},
   "outputs": [
    {
     "name": "stdout",
     "output_type": "stream",
     "text": [
      "Principal Diagonal: 18\n",
      "Secondary Diagonal: 18\n"
     ]
    }
   ],
   "source": [
    "# A simple Python3 program to find sum of diagonals\n",
    "MAX = 100\n",
    " \n",
    "def DiagonalSums_emp2(mat, n):\n",
    " \n",
    "    principal = 0\n",
    "    secondary = 0\n",
    "    for i in range(0, n):\n",
    "        principal += mat[i][i]\n",
    "        secondary += mat[i][n - i - 1]\n",
    "         \n",
    "    print(\"Principal Diagonal:\", principal)\n",
    "    print(\"Secondary Diagonal:\", secondary)\n",
    " \n",
    "\n",
    "a = [[ 1, 2, 3, 4 ],\n",
    "     [ 5, 6, 7, 8 ],\n",
    "     [ 1, 2, 3, 4 ],\n",
    "     [ 5, 6, 7, 8 ]]\n",
    "\n",
    "DiagonalSums_emp2(a, 4)\n",
    " \n",
    "# This code is contributed\n",
    "# by ihritik"
   ]
  },
  {
   "cell_type": "markdown",
   "id": "afbd2b33",
   "metadata": {},
   "source": [
    "\n",
    "The manager has to decide which algorithm to use. To do so, he has to find the complexity of the algorithm. A good algorithm doesn't only find an answer, it finds it quickly and efficiently. But how do we evaluate how fast an algorithm is? One way to do so is by finding the time required to execute the algorithms. We can measure\n",
    "\n",
    "The %time command times a single run of a function. Here is an example on how it is used:\n",
    "\n",
    "```py\n",
    "In [3]: %time sum(range(100000))\n",
    "CPU times: user 2.68 ms, sys: 3 µs, total: 2.68 ms\n",
    "Wall time: 2.69 ms\n",
    "Out[3]: 4999950000\n",
    "```\n",
    "\n",
    "We can also use the time library:\n",
    "\n",
    "```py\n",
    "import time\n",
    "\n",
    "start = time.time()\n",
    "# your code\n",
    "# end\n",
    "print(f'Time: {time.time() - start}')\n",
    "```\n",
    "\n",
    "**Find the time required to execute each of the algorithms**"
   ]
  },
  {
   "cell_type": "code",
   "execution_count": 20,
   "id": "929cef16",
   "metadata": {},
   "outputs": [
    {
     "name": "stdout",
     "output_type": "stream",
     "text": [
      "Principal Diagonal: 18\n",
      "Secondary Diagonal: 18\n",
      "Wall time: 0 ns\n"
     ]
    }
   ],
   "source": [
    "#YOUR CODE HERE TO FIND THE TIME REQUIRED TO EXECUTE ALGORITHM BUILT BY THE FIRST EMPLOYEE\n",
    "%time DiagonalSums_emp1(a, 4)"
   ]
  },
  {
   "cell_type": "code",
   "execution_count": 21,
   "id": "7e05fab2",
   "metadata": {},
   "outputs": [
    {
     "name": "stdout",
     "output_type": "stream",
     "text": [
      "Principal Diagonal: 18\n",
      "Secondary Diagonal: 18\n",
      "Time: 0.0009961128234863281\n"
     ]
    }
   ],
   "source": [
    "start = time.time()\n",
    "DiagonalSums_emp1(a,4)\n",
    "print(f'Time: {time.time() - start}')"
   ]
  },
  {
   "cell_type": "code",
   "execution_count": 22,
   "id": "8c8185a8",
   "metadata": {},
   "outputs": [
    {
     "name": "stdout",
     "output_type": "stream",
     "text": [
      "Principal Diagonal: 18\n",
      "Secondary Diagonal: 18\n",
      "Wall time: 998 µs\n"
     ]
    }
   ],
   "source": [
    "#YOUR CODE HERE TO FIND THE TIME REQUIRED TO EXECUTE ALGORITHM BUILT BY THE SECOND EMPLOYEE\n",
    "%time DiagonalSums_emp2(a, 4)"
   ]
  },
  {
   "cell_type": "code",
   "execution_count": 23,
   "id": "c4086b2a",
   "metadata": {},
   "outputs": [
    {
     "name": "stdout",
     "output_type": "stream",
     "text": [
      "Principal Diagonal: 18\n",
      "Secondary Diagonal: 18\n",
      "Time: 0.0009949207305908203\n"
     ]
    }
   ],
   "source": [
    "start = time.time()\n",
    "DiagonalSums_emp2(a,4)\n",
    "print(f'Time: {time.time() - start}')"
   ]
  },
  {
   "cell_type": "markdown",
   "id": "be54d92c",
   "metadata": {},
   "source": [
    "Comparing both methods we can see that there is no significant difference in processing time between the methods. Perhaps it depends on the few inputs considered."
   ]
  },
  {
   "cell_type": "markdown",
   "id": "d66bad41",
   "metadata": {},
   "source": [
    "However, execution time is not a good metric to measure the complexity of an algorithm since it depends upon the hardware. A more objective complexity analysis metrics for the algorithms is needed. This is where Big O notation comes to play.\n",
    "\n",
    "As we already know, the complexity of an algorithm is said to :\n",
    "\n",
    "Constant if:\n",
    "\n",
    "The steps required to complete the execution of an algorithm remain constant, irrespective of the number of inputs. The constant complexity is denoted by O(c) where c can be any constant number.\n",
    "\n",
    "Linear if:\n",
    "\n",
    "The steps required to complete the execution of an algorithm increase or decrease linearly with the number of inputs. Linear complexity is denoted by O(n). For instance, if there are 4 inputs in the inputs list, the for-loop will be executed 4 times, and so on.\n",
    "\n",
    "Quadratic if:\n",
    "\n",
    "The steps required to execute an algorithm are a quadratic function of the number of items in the input. Quadratic complexity is denoted as O(n^2). The total number of steps performed is n * n, where n is the number of items in the input array.\n",
    "\n",
    "**Find out the complexity of each algorithm in Big O Notation and draw a line plot with the varying size of the items input on the x-axis and the number of steps on the y-axis.**"
   ]
  },
  {
   "cell_type": "code",
   "execution_count": 26,
   "id": "b587070d",
   "metadata": {},
   "outputs": [],
   "source": [
    "import numpy as np\n",
    "import matplotlib.pyplot as plt"
   ]
  },
  {
   "cell_type": "code",
   "execution_count": 47,
   "id": "2975d116",
   "metadata": {},
   "outputs": [
    {
     "name": "stdout",
     "output_type": "stream",
     "text": [
      "The complexity in Big O of the first method is O(n^2) because the steps are n*n in the nested for loop, where n is the input length\n"
     ]
    },
    {
     "data": {
      "image/png": "[encoded data removed]",
      "text/plain": [
       "<Figure size 640x480 with 1 Axes>"
      ]
     },
     "metadata": {},
     "output_type": "display_data"
    }
   ],
   "source": [
    "# Write the time complexity in Big O notation for the second employee's algorithm\n",
    "# CODE HERE TO MAKE A PLOT FOR THE SECOND EMPLOYEE'S SOLUTION\n",
    "\n",
    "print('The complexity in Big O of the first method is O(n^2) because the steps are n*n in the nested for loop, where n is the input length')\n",
    "\n",
    "def f(x):\n",
    "    return x*x\n",
    "\n",
    "x=np.sort(np.random.randint(0,100,100))\n",
    "y=f(x)\n",
    "\n",
    "plt.plot(x,y,'r')\n",
    "plt.title('Big O complexity')\n",
    "plt.xlabel('Inputs')\n",
    "plt.ylabel('Steps')\n",
    "plt.show()"
   ]
  },
  {
   "cell_type": "code",
   "execution_count": 48,
   "id": "9c2d912b",
   "metadata": {},
   "outputs": [
    {
     "name": "stdout",
     "output_type": "stream",
     "text": [
      "The complexity in Big O of the second method is O(n) because the steps are equal to the input length\n"
     ]
    },
    {
     "data": {
      "image/png": "[encoded data removed]",
      "text/plain": [
       "<Figure size 640x480 with 1 Axes>"
      ]
     },
     "metadata": {},
     "output_type": "display_data"
    }
   ],
   "source": [
    "# Write the time complexity in Big O notation for the first employee's algorithm.\n",
    "# CODE HERE TO MAKE A PLOT FOR THE FIRST EMPLOYEE'S SOLUTION\n",
    "\n",
    "print('The complexity in Big O of the second method is O(n) because the steps are equal to the input length')\n",
    "\n",
    "def f(x):\n",
    "    return x\n",
    "\n",
    "x=np.sort(np.random.randint(0,100,100))\n",
    "y=f(x)\n",
    "\n",
    "plt.plot(x,y,'r')\n",
    "plt.title('Big O complexity')\n",
    "plt.xlabel('Inputs')\n",
    "plt.ylabel('Steps')\n",
    "plt.show()"
   ]
  },
  {
   "cell_type": "markdown",
   "id": "425bc2b8",
   "metadata": {},
   "source": [
    "## Exercise 2 : Selection Sort algorithm\n",
    "\n",
    "\n",
    "### Theory:\n",
    "\n",
    "The selection sort algorithm sorts an array by repeatedly finding the minimum element (considering ascending order) from unsorted part and putting it at the beginning. The algorithm maintains two subarrays in a given array:\n",
    "\n",
    "-The subarray which is already sorted. \n",
    "\n",
    "-Remaining subarray which is unsorted.\n",
    "\n",
    "In every iteration of selection sort, the minimum element (considering ascending order) from the unsorted subarray is picked and moved to the sorted subarray. \n",
    "\n",
    "Lets consider the following array as an example: \n",
    "```py\n",
    "arr[] = {64, 25, 12, 22, 11}\n",
    "```\n",
    "\n",
    "**First pass:**\n",
    "\n",
    "For the first position in the sorted array, the whole array is traversed from index 0 to 4 sequentially. The first position where 64 is stored presently, after traversing whole array it is clear that 11 is the lowest value.\n",
    "```py\n",
    "[64  25  12  22  11]\n",
    "```\n",
    "\n",
    "Thus, replace 64 with 11. After one iteration 11, which happens to be the least value in the array, tends to appear in the first position of the sorted list.\n",
    "```py\n",
    "[11  25  12  22  64]\n",
    "```\n",
    "\n",
    "**Second Pass:**\n",
    "\n",
    "For the second position, where 25 is present, again traverse the rest of the array in a sequential manner.\n",
    "```py\n",
    "[11  25  12  22  64]\n",
    "```\n",
    "\n",
    "After traversing, we found that 12 is the second lowest value in the array and it should appear at the second place in the array, thus swap these values.\n",
    "```py\n",
    "[11  12  25  22  64]\n",
    "```\n",
    "\n",
    "**Third Pass:**\n",
    "\n",
    "Now, for third place, where 25 is present again traverse the rest of the array and find the third least value present in the array.\n",
    "```py\n",
    "[11  12  25  22  64]\n",
    "```\n",
    "\n",
    "While traversing, 22 came out to be the third least value and it should appear at the third place in the array, thus swap 22 with element present at third position.\n",
    "```py\n",
    "[11  12  22  25  64]\n",
    "```\n",
    "\n",
    "**Fourth pass:**\n",
    "\n",
    "Similarly, for fourth position traverse the rest of the array and find the fourth least element in the array \n",
    "As 25 is the 4th lowest value hence, it will place at the fourth position.\n",
    "\n",
    "```py\n",
    "[11  12  22  25  64]  \n",
    "```\n",
    "\n",
    "**Fifth Pass:**\n",
    "\n",
    "At last the largest value present in the array automatically get placed at the last position in the array\n",
    "The resulted array is the sorted array.\n",
    "\n",
    "```py\n",
    "[11  12  22  25  64] \n",
    "```\n",
    "\n",
    "\n",
    "\n",
    "### Problem:\n",
    "\n",
    "\n",
    "**Part 1: Create a python program for implementation of Selection Sort**\n",
    "\n",
    "Given the following unsorted array, create a python program to implement selection sort:\n",
    "```py\n",
    "arr[] = {10,5,3,8,9,4}\n",
    "```\n",
    "\n",
    "Instructions:\n",
    "\n",
    "-Initialize minimum value(min_idx) to location 0\n",
    "\n",
    "-Traverse the array to find the minimum element in the array\n",
    "\n",
    "-While traversing if any element smaller than min_idx is found then swap both the values.\n",
    "\n",
    "-Then, increment min_idx to point to next element\n",
    "\n",
    "-Repeat until array is sorted\n",
    "\n",
    "\n",
    "**Part 2: Time Complexity Analysis of Selection Sort**\n",
    "\n",
    "\n",
    "How many nested loops are there?\n",
    "\n",
    "What is the overall time complexity?\n",
    "\n"
   ]
  },
  {
   "cell_type": "code",
   "execution_count": 99,
   "id": "440f2f4d",
   "metadata": {},
   "outputs": [],
   "source": [
    "\n",
    "# Python program for implementation of Selection Sort\n",
    "\n",
    "import sys\n",
    "\n",
    "A = [10,5,3,8,9,4]\n",
    " \n",
    "def SortArray(array):\n",
    "    for s in range(len(array)):\n",
    "        min_idx = s\n",
    "        for i in range(s + 1,len(array)):\n",
    "            if array[i] < array[min_idx]:\n",
    "                min_idx = i\n",
    "                \n",
    "        (array[s], array[min_idx]) = (array[min_idx], array[s])\n",
    "        \n",
    "    print(array)\n",
    " "
   ]
  },
  {
   "cell_type": "code",
   "execution_count": 100,
   "id": "a44e3f75",
   "metadata": {},
   "outputs": [
    {
     "name": "stdout",
     "output_type": "stream",
     "text": [
      "The sorted array is:\n",
      "[3, 4, 5, 8, 9, 10]\n"
     ]
    }
   ],
   "source": [
    "print('The sorted array is:')\n",
    "SortArray(A)"
   ]
  },
  {
   "cell_type": "markdown",
   "id": "6cb6a105",
   "metadata": {},
   "source": [
    "## Exercise 3: Implementing a KNN Algorithm with Scikit-learn\n",
    "\n",
    "In this exercise, we will have a brief introduction to the Scikit-learn library. We will see how this library can be used to implement the KNN algorithm in less than 20 lines of code.  Then the task will be to try to optimize the parameter of this algorithm. Don't worry! Scikit-Learn, and also de KNN algorithm will be explained very well in future modules.\n",
    "\n",
    "**The dataset**\n",
    "\n",
    "We are going to use the famous iris data set for our KNN example. The dataset consists of four attributes: sepal-width, sepal-length, petal-width and petal-length. These are the attributes of specific types of iris plant. The goal is to predict the class to which these plants belong. There are three classes in the dataset: Iris-setosa, Iris-versicolor and Iris-virginica.\n",
    "\n",
    "\n",
    "**Library installation**\n",
    "\n",
    "\n",
    "First let's install the Scikit-learn library by entering the following command in the terminal:\n",
    "\n",
    "```py\n",
    "pip install -U scikit-learn\n",
    "```\n",
    "\n",
    "Now let's see how to implement the KNN algorithm:\n",
    "\n",
    "**Importing libraries**"
   ]
  },
  {
   "cell_type": "code",
   "execution_count": 69,
   "id": "9d0f17f0",
   "metadata": {},
   "outputs": [
    {
     "name": "stdout",
     "output_type": "stream",
     "text": [
      "Requirement already satisfied: scikit-learn in c:\\users\\ana sofia\\miniconda3\\lib\\site-packages (1.1.1)\n",
      "Requirement already satisfied: joblib>=1.0.0 in c:\\users\\ana sofia\\miniconda3\\lib\\site-packages (from scikit-learn) (1.1.0)\n",
      "Requirement already satisfied: numpy>=1.17.3 in c:\\users\\ana sofia\\miniconda3\\lib\\site-packages (from scikit-learn) (1.22.3)\n",
      "Requirement already satisfied: scipy>=1.3.2 in c:\\users\\ana sofia\\miniconda3\\lib\\site-packages (from scikit-learn) (1.8.0)\n",
      "Requirement already satisfied: threadpoolctl>=2.0.0 in c:\\users\\ana sofia\\miniconda3\\lib\\site-packages (from scikit-learn) (3.1.0)\n"
     ]
    }
   ],
   "source": [
    "!pip install scikit-learn\n",
    "import numpy as np\n",
    "import matplotlib.pyplot as plt\n",
    "import pandas as pd"
   ]
  },
  {
   "cell_type": "markdown",
   "id": "d3e87b86",
   "metadata": {},
   "source": [
    "**Importing and loading the dataset**"
   ]
  },
  {
   "cell_type": "code",
   "execution_count": 67,
   "id": "ca2f71e1",
   "metadata": {},
   "outputs": [],
   "source": [
    "url = \"https://archive.ics.uci.edu/ml/machine-learning-databases/iris/iris.data\"\n",
    "\n",
    "# Assign colum names to the dataset\n",
    "names = ['sepal-length', 'sepal-width', 'petal-length', 'petal-width', 'Class']\n",
    "\n",
    "# Read dataset to pandas dataframe\n",
    "dataset = pd.read_csv(url, names=names)"
   ]
  },
  {
   "cell_type": "markdown",
   "id": "9fd366f8",
   "metadata": {},
   "source": [
    "**Looking at the first rows of the data**"
   ]
  },
  {
   "cell_type": "code",
   "execution_count": 68,
   "id": "058c3171",
   "metadata": {},
   "outputs": [
    {
     "data": {
      "text/html": [
       "<div>\n",
       "<style scoped>\n",
       "    .dataframe tbody tr th:only-of-type {\n",
       "        vertical-align: middle;\n",
       "    }\n",
       "\n",
       "    .dataframe tbody tr th {\n",
       "        vertical-align: top;\n",
       "    }\n",
       "\n",
       "    .dataframe thead th {\n",
       "        text-align: right;\n",
       "    }\n",
       "</style>\n",
       "<table border=\"1\" class=\"dataframe\">\n",
       "  <thead>\n",
       "    <tr style=\"text-align: right;\">\n",
       "      <th></th>\n",
       "      <th>sepal-length</th>\n",
       "      <th>sepal-width</th>\n",
       "      <th>petal-length</th>\n",
       "      <th>petal-width</th>\n",
       "      <th>Class</th>\n",
       "    </tr>\n",
       "  </thead>\n",
       "  <tbody>\n",
       "    <tr>\n",
       "      <th>0</th>\n",
       "      <td>5.1</td>\n",
       "      <td>3.5</td>\n",
       "      <td>1.4</td>\n",
       "      <td>0.2</td>\n",
       "      <td>Iris-setosa</td>\n",
       "    </tr>\n",
       "    <tr>\n",
       "      <th>1</th>\n",
       "      <td>4.9</td>\n",
       "      <td>3.0</td>\n",
       "      <td>1.4</td>\n",
       "      <td>0.2</td>\n",
       "      <td>Iris-setosa</td>\n",
       "    </tr>\n",
       "    <tr>\n",
       "      <th>2</th>\n",
       "      <td>4.7</td>\n",
       "      <td>3.2</td>\n",
       "      <td>1.3</td>\n",
       "      <td>0.2</td>\n",
       "      <td>Iris-setosa</td>\n",
       "    </tr>\n",
       "    <tr>\n",
       "      <th>3</th>\n",
       "      <td>4.6</td>\n",
       "      <td>3.1</td>\n",
       "      <td>1.5</td>\n",
       "      <td>0.2</td>\n",
       "      <td>Iris-setosa</td>\n",
       "    </tr>\n",
       "    <tr>\n",
       "      <th>4</th>\n",
       "      <td>5.0</td>\n",
       "      <td>3.6</td>\n",
       "      <td>1.4</td>\n",
       "      <td>0.2</td>\n",
       "      <td>Iris-setosa</td>\n",
       "    </tr>\n",
       "  </tbody>\n",
       "</table>\n",
       "</div>"
      ],
      "text/plain": [
       "   sepal-length  sepal-width  petal-length  petal-width        Class\n",
       "0           5.1          3.5           1.4          0.2  Iris-setosa\n",
       "1           4.9          3.0           1.4          0.2  Iris-setosa\n",
       "2           4.7          3.2           1.3          0.2  Iris-setosa\n",
       "3           4.6          3.1           1.5          0.2  Iris-setosa\n",
       "4           5.0          3.6           1.4          0.2  Iris-setosa"
      ]
     },
     "execution_count": 68,
     "metadata": {},
     "output_type": "execute_result"
    }
   ],
   "source": [
    "dataset.head()"
   ]
  },
  {
   "cell_type": "markdown",
   "id": "e3dae7c8",
   "metadata": {},
   "source": [
    "**Pre-processing**\n",
    "\n",
    "Split dataset into attributes and labels. Again, don't worry, this data preprocessing part will also be very well explained in a future module. Now, we will focus on the algorithm optimization."
   ]
  },
  {
   "cell_type": "code",
   "execution_count": 70,
   "id": "ce94dbb1",
   "metadata": {},
   "outputs": [],
   "source": [
    "X = dataset.iloc[:, :-1].values\n",
    "y = dataset.iloc[:, 4].values"
   ]
  },
  {
   "cell_type": "code",
   "execution_count": 74,
   "id": "2fd4dddf",
   "metadata": {},
   "outputs": [
    {
     "name": "stdout",
     "output_type": "stream",
     "text": [
      "[[5.1 3.5 1.4 0.2]\n",
      " [4.9 3.  1.4 0.2]\n",
      " [4.7 3.2 1.3 0.2]\n",
      " [4.6 3.1 1.5 0.2]\n",
      " [5.  3.6 1.4 0.2]\n",
      " [5.4 3.9 1.7 0.4]\n",
      " [4.6 3.4 1.4 0.3]\n",
      " [5.  3.4 1.5 0.2]\n",
      " [4.4 2.9 1.4 0.2]\n",
      " [4.9 3.1 1.5 0.1]]\n",
      "['Iris-setosa' 'Iris-setosa' 'Iris-setosa' 'Iris-setosa' 'Iris-setosa'\n",
      " 'Iris-setosa' 'Iris-setosa' 'Iris-setosa' 'Iris-setosa' 'Iris-setosa']\n"
     ]
    }
   ],
   "source": [
    "print(X[:10,:])\n",
    "print(y[:10])"
   ]
  },
  {
   "cell_type": "markdown",
   "id": "d8b9dbed",
   "metadata": {},
   "source": [
    "**Train Test split**\n",
    "\n",
    "In machine learning, when we are building a model, we have to be careful to do not overfit it. Overfitting means that our model works very well in known data but when it works with unseen data, it has a poor performance. To avoid this, we divide our dataset into training and test datasets. This way our algorithm is tested on un-seen data to evaluate the performance of our algorithm. We will divide it into 80% training data and 20% for testing. This 4 blocks of data would be:\n",
    "\n",
    "-X_train: training features\n",
    "\n",
    "-X_test: test features\n",
    "\n",
    "-y_train: training labels\n",
    "\n",
    "-y_test: test labels"
   ]
  },
  {
   "cell_type": "code",
   "execution_count": 75,
   "id": "8ccaf14e",
   "metadata": {},
   "outputs": [],
   "source": [
    "from sklearn.model_selection import train_test_split\n",
    "\n",
    "X_train, X_test, y_train, y_test = train_test_split(X, y, test_size=0.20)"
   ]
  },
  {
   "cell_type": "markdown",
   "id": "21b18743",
   "metadata": {},
   "source": [
    "**Feature Scaling**\n",
    "\n",
    "The majority of classifiers calculate the distance between two points by the Euclidean distance. If one of the features has a broad range of values, the distance will be governed by this particular feature. Therefore, the range of all features should be normalized so that each feature contributes approximately proportionately to the final distance.\n",
    "\n",
    "It is a good practice to scale the features so that all of them can be uniformly evaluated.\n",
    "We will read more about feature scaling in the data preprocessing module, but now, let's have a first look at how it is implemented."
   ]
  },
  {
   "cell_type": "code",
   "execution_count": 76,
   "id": "9904f4a0",
   "metadata": {},
   "outputs": [],
   "source": [
    "from sklearn.preprocessing import StandardScaler\n",
    "scaler = StandardScaler()\n",
    "scaler.fit(X_train)\n",
    "\n",
    "X_train = scaler.transform(X_train)\n",
    "X_test = scaler.transform(X_test)"
   ]
  },
  {
   "cell_type": "markdown",
   "id": "6c368418",
   "metadata": {},
   "source": [
    "**Train the KNN algorithm**\n",
    "\n",
    "Now our data is ready for training. We will begin by importing the algorithm we want to train from the scikit-learn library, and then we will initialize it with one parameter: n_neigbours. This is basically the value for 'K'. We don't know what is the ideal number of neighbors(K) yet so we will start it with 5. After making the predictions we will try to otpimize this K value.\n",
    "\n",
    "Finally, we train our model using .fit on our training features and training labels (they both represent 80% of the data)."
   ]
  },
  {
   "cell_type": "code",
   "execution_count": 77,
   "id": "fa6cda99",
   "metadata": {},
   "outputs": [
    {
     "data": {
      "text/html": [
       "<style>#sk-container-id-1 {color: black;background-color: white;}#sk-container-id-1 pre{padding: 0;}#sk-container-id-1 div.sk-toggleable {background-color: white;}#sk-container-id-1 label.sk-toggleable__label {cursor: pointer;display: block;width: 100%;margin-bottom: 0;padding: 0.3em;box-sizing: border-box;text-align: center;}#sk-container-id-1 label.sk-toggleable__label-arrow:before {content: \"▸\";float: left;margin-right: 0.25em;color: #696969;}#sk-container-id-1 label.sk-toggleable__label-arrow:hover:before {color: black;}#sk-container-id-1 div.sk-estimator:hover label.sk-toggleable__label-arrow:before {color: black;}#sk-container-id-1 div.sk-toggleable__content {max-height: 0;max-width: 0;overflow: hidden;text-align: left;background-color: #f0f8ff;}#sk-container-id-1 div.sk-toggleable__content pre {margin: 0.2em;color: black;border-radius: 0.25em;background-color: #f0f8ff;}#sk-container-id-1 input.sk-toggleable__control:checked~div.sk-toggleable__content {max-height: 200px;max-width: 100%;overflow: auto;}#sk-container-id-1 input.sk-toggleable__control:checked~label.sk-toggleable__label-arrow:before {content: \"▾\";}#sk-container-id-1 div.sk-estimator input.sk-toggleable__control:checked~label.sk-toggleable__label {background-color: #d4ebff;}#sk-container-id-1 div.sk-label input.sk-toggleable__control:checked~label.sk-toggleable__label {background-color: #d4ebff;}#sk-container-id-1 input.sk-hidden--visually {border: 0;clip: rect(1px 1px 1px 1px);clip: rect(1px, 1px, 1px, 1px);height: 1px;margin: -1px;overflow: hidden;padding: 0;position: absolute;width: 1px;}#sk-container-id-1 div.sk-estimator {font-family: monospace;background-color: #f0f8ff;border: 1px dotted black;border-radius: 0.25em;box-sizing: border-box;margin-bottom: 0.5em;}#sk-container-id-1 div.sk-estimator:hover {background-color: #d4ebff;}#sk-container-id-1 div.sk-parallel-item::after {content: \"\";width: 100%;border-bottom: 1px solid gray;flex-grow: 1;}#sk-container-id-1 div.sk-label:hover label.sk-toggleable__label {background-color: #d4ebff;}#sk-container-id-1 div.sk-serial::before {content: \"\";position: absolute;border-left: 1px solid gray;box-sizing: border-box;top: 0;bottom: 0;left: 50%;z-index: 0;}#sk-container-id-1 div.sk-serial {display: flex;flex-direction: column;align-items: center;background-color: white;padding-right: 0.2em;padding-left: 0.2em;position: relative;}#sk-container-id-1 div.sk-item {position: relative;z-index: 1;}#sk-container-id-1 div.sk-parallel {display: flex;align-items: stretch;justify-content: center;background-color: white;position: relative;}#sk-container-id-1 div.sk-item::before, #sk-container-id-1 div.sk-parallel-item::before {content: \"\";position: absolute;border-left: 1px solid gray;box-sizing: border-box;top: 0;bottom: 0;left: 50%;z-index: -1;}#sk-container-id-1 div.sk-parallel-item {display: flex;flex-direction: column;z-index: 1;position: relative;background-color: white;}#sk-container-id-1 div.sk-parallel-item:first-child::after {align-self: flex-end;width: 50%;}#sk-container-id-1 div.sk-parallel-item:last-child::after {align-self: flex-start;width: 50%;}#sk-container-id-1 div.sk-parallel-item:only-child::after {width: 0;}#sk-container-id-1 div.sk-dashed-wrapped {border: 1px dashed gray;margin: 0 0.4em 0.5em 0.4em;box-sizing: border-box;padding-bottom: 0.4em;background-color: white;}#sk-container-id-1 div.sk-label label {font-family: monospace;font-weight: bold;display: inline-block;line-height: 1.2em;}#sk-container-id-1 div.sk-label-container {text-align: center;}#sk-container-id-1 div.sk-container {/* jupyter's `normalize.less` sets `[hidden] { display: none; }` but bootstrap.min.css set `[hidden] { display: none !important; }` so we also need the `!important` here to be able to override the default hidden behavior on the sphinx rendered scikit-learn.org. See: https://github.com/scikit-learn/scikit-learn/issues/21755 */display: inline-block !important;position: relative;}#sk-container-id-1 div.sk-text-repr-fallback {display: none;}</style><div id=\"sk-container-id-1\" class=\"sk-top-container\"><div class=\"sk-text-repr-fallback\"><pre>KNeighborsClassifier()</pre><b>In a Jupyter environment, please rerun this cell to show the HTML representation or trust the notebook. <br />On GitHub, the HTML representation is unable to render, please try loading this page with nbviewer.org.</b></div><div class=\"sk-container\" hidden><div class=\"sk-item\"><div class=\"sk-estimator sk-toggleable\"><input class=\"sk-toggleable__control sk-hidden--visually\" id=\"sk-estimator-id-1\" type=\"checkbox\" checked><label for=\"sk-estimator-id-1\" class=\"sk-toggleable__label sk-toggleable__label-arrow\">KNeighborsClassifier</label><div class=\"sk-toggleable__content\"><pre>KNeighborsClassifier()</pre></div></div></div></div></div>"
      ],
      "text/plain": [
       "KNeighborsClassifier()"
      ]
     },
     "execution_count": 77,
     "metadata": {},
     "output_type": "execute_result"
    }
   ],
   "source": [
    "from sklearn.neighbors import KNeighborsClassifier\n",
    "classifier = KNeighborsClassifier(n_neighbors=5)\n",
    "classifier.fit(X_train, y_train)"
   ]
  },
  {
   "cell_type": "markdown",
   "id": "14b37ff9",
   "metadata": {},
   "source": [
    "**Make predictions on our test data**\n",
    "\n",
    "The model has been trained, so now we use the same algorithm (stored in the 'classifier' variable)  to predict only on the features of the test dataset (20% of the data). This time we don't use the labels, because we want to predict them, and then compare them with the real test labels."
   ]
  },
  {
   "cell_type": "code",
   "execution_count": 78,
   "id": "2dab6f34",
   "metadata": {},
   "outputs": [],
   "source": [
    "y_pred = classifier.predict(X_test)"
   ]
  },
  {
   "cell_type": "markdown",
   "id": "5ebcc483",
   "metadata": {},
   "source": [
    "**Evaluate the algorithm**\n",
    "\n",
    "Confusion matrix, precision, recall and f1 score are the most commonly used evaluation metrics for classification problems.\n",
    "The confusion_matrix and classification_report methods of the sklearn.metrics can be used to calculate these metrics. Here we will compare our y_pred results versus our y_test true labels."
   ]
  },
  {
   "cell_type": "code",
   "execution_count": 79,
   "id": "7eaac127",
   "metadata": {},
   "outputs": [
    {
     "name": "stdout",
     "output_type": "stream",
     "text": [
      "[[11  0  0]\n",
      " [ 0  8  0]\n",
      " [ 0  2  9]]\n",
      "                 precision    recall  f1-score   support\n",
      "\n",
      "    Iris-setosa       1.00      1.00      1.00        11\n",
      "Iris-versicolor       0.80      1.00      0.89         8\n",
      " Iris-virginica       1.00      0.82      0.90        11\n",
      "\n",
      "       accuracy                           0.93        30\n",
      "      macro avg       0.93      0.94      0.93        30\n",
      "   weighted avg       0.95      0.93      0.93        30\n",
      "\n"
     ]
    }
   ],
   "source": [
    "from sklearn.metrics import classification_report, confusion_matrix\n",
    "print(confusion_matrix(y_test, y_pred))\n",
    "print(classification_report(y_test, y_pred))"
   ]
  },
  {
   "cell_type": "markdown",
   "id": "0365c265",
   "metadata": {},
   "source": [
    "**Optimizing the KNN algorithm**\n",
    "\n",
    "There is no way to know beforehand which value of 'K' yields the best results since the beginning. We randomly chose 5 as the 'K' value.\n",
    "\n",
    "This is where we optimize our algorithm. To help find the best value of K:\n",
    "\n",
    "1. First create a function that calculates the mean of error for all the predicted values where K ranges from 1 to 40. \n",
    "2. Plot the error values against K values.\n",
    "3. Vary the test and training size along with the K value to see how your results differ and how can you improve the accuracy of your algorithm. \n",
    "\n"
   ]
  },
  {
   "cell_type": "code",
   "execution_count": 81,
   "id": "6418e5e4",
   "metadata": {},
   "outputs": [],
   "source": [
    "def knn_err(k,X_train,y_train,X_test,y_test):    \n",
    "    # Create an empty error list.\n",
    "    err=[]\n",
    "    #Execute a loop from 1 to 40. In each iteration calculate the mean error for predicted values of test set\n",
    "    for i in range(1, k):\n",
    "        #initialize the KNN algorithm\n",
    "        classifier = KNeighborsClassifier(n_neighbors=i)\n",
    "        #fit the train data\n",
    "        classifier.fit(X_train, y_train)\n",
    "        #make predictions\n",
    "        y_pred = classifier.predict(X_test)    \n",
    "        #append the result to the error list.\n",
    "        err.append(np.mean(y_pred!=y_test))\n",
    "    return err,y_pred"
   ]
  },
  {
   "cell_type": "code",
   "execution_count": 87,
   "id": "9483300a",
   "metadata": {},
   "outputs": [
    {
     "data": {
      "image/png": "[encoded data removed]",
      "text/plain": [
       "<Figure size 1000x500 with 1 Axes>"
      ]
     },
     "metadata": {},
     "output_type": "display_data"
    }
   ],
   "source": [
    "# plot the error values against K values. Establish the graph size.\n",
    "\n",
    "err,y_pred=knn_err(40,X_train,y_train,X_test,y_test)\n",
    "\n",
    "plt.figure(figsize=(10,5))\n",
    "plt.plot(range(1,40),err,'r')\n",
    "# title and labels (uncomment the following code lines)\n",
    "plt.title('Error Rate K Value')\n",
    "plt.xlabel('K Value')\n",
    "plt.ylabel('Mean Error')\n",
    "plt.show()"
   ]
  },
  {
   "cell_type": "code",
   "execution_count": 97,
   "id": "71548d67",
   "metadata": {},
   "outputs": [
    {
     "name": "stdout",
     "output_type": "stream",
     "text": [
      "The minimum error 0.033 is reached when k is 6\n"
     ]
    }
   ],
   "source": [
    "print('The minimum error',round(min(err),3),'is reached when k is', err.index(min(err)))"
   ]
  },
  {
   "cell_type": "markdown",
   "id": "b281af6e",
   "metadata": {},
   "source": [
    "Source:\n",
    "\n",
    "https://www.geeksforgeeks.org/\n",
    "\n",
    "https://stackabuse.com/big-o-notation-and-algorithm-analysis-with-python-examples/\n",
    "\n",
    "https://stackabuse.com/k-nearest-neighbors-algorithm-in-python-and-scikit-learn/\n",
    "\n",
    "https://www.geeksforgeeks.org/selection-sort/"
   ]
  }
 ],
 "metadata": {
  "interpreter": {
   "hash": "9248718ffe6ce6938b217e69dbcc175ea21f4c6b28a317e96c05334edae734bb"
  },
  "kernelspec": {
   "display_name": "Python 3",
   "language": "python",
   "name": "python3"
  },
  "language_info": {
   "codemirror_mode": {
    "name": "ipython",
    "version": 3
   },
   "file_extension": ".py",
   "mimetype": "text/x-python",
   "name": "python",
   "nbconvert_exporter": "python",
   "pygments_lexer": "ipython3",
   "version": "3.8.5"
  }
 },
 "nbformat": 4,
 "nbformat_minor": 5
}
